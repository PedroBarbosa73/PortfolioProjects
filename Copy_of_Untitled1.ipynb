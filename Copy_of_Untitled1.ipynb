{
  "nbformat": 4,
  "nbformat_minor": 0,
  "metadata": {
    "colab": {
      "provenance": [],
      "authorship_tag": "ABX9TyM+mkWEACyRjCK46ANcCSc2",
      "include_colab_link": true
    },
    "kernelspec": {
      "name": "python3",
      "display_name": "Python 3"
    },
    "language_info": {
      "name": "python"
    }
  },
  "cells": [
    {
      "cell_type": "markdown",
      "metadata": {
        "id": "view-in-github",
        "colab_type": "text"
      },
      "source": [
        "<a href=\"https://colab.research.google.com/github/PedroBarbosa73/PortfolioProjects/blob/main/Copy_of_Untitled1.ipynb\" target=\"_parent\"><img src=\"https://colab.research.google.com/assets/colab-badge.svg\" alt=\"Open In Colab\"/></a>"
      ]
    },
    {
      "cell_type": "code",
      "execution_count": null,
      "metadata": {
        "id": "fk7sCR2K6_Am"
      },
      "outputs": [],
      "source": [
        "import speech_recognition as sr\n",
        "import re\n",
        "from textblob import TextBlob\n",
        "import time\n",
        "\n",
        "def record_speech():\n",
        "    recognizer = sr.Recognizer()\n",
        "    with sr.Microphone() as source:\n",
        "        print(\"Speak now...\")\n",
        "        recognizer.adjust_for_ambient_noise(source)\n",
        "        audio = recognizer.listen(source)\n",
        "    try:\n",
        "        text = recognizer.recognize_google(audio)\n",
        "        return text\n",
        "    except sr.UnknownValueError:\n",
        "        return \"[Could not understand]\"\n",
        "    except sr.RequestError:\n",
        "        return \"[Error with speech recognition]\"\n",
        "\n",
        "def analyze_sentiment(text):\n",
        "    blob = TextBlob(text)\n",
        "    sentiment = blob.sentiment.polarity\n",
        "    if sentiment > 0.5:\n",
        "        return \"Motivational\"\n",
        "    elif sentiment > 0:\n",
        "        return \"Positive\"\n",
        "    elif sentiment < -0.5:\n",
        "        return \"Angry\"\n",
        "    elif sentiment < 0:\n",
        "        return \"Disappointed\"\n",
        "    return \"Neutral\"\n",
        "\n",
        "def censor_curses(text):\n",
        "    curses = [\"damn\", \"hell\", \"shit\", \"fuck\"]  # Expand this list as needed\n",
        "    for curse in curses:\n",
        "        text = re.sub(rf'\\b{curse}\\b', \"####\", text, flags=re.IGNORECASE)\n",
        "    return text\n",
        "\n",
        "def detect_player_names(text, players):\n",
        "    for player in players:\n",
        "        if player.lower() in text.lower():\n",
        "            return player\n",
        "    return None\n",
        "\n",
        "def main():\n",
        "    players = [\"João\", \"Pedro\", \"Ruben\", \"Gonçalo\"]  # Simulated team players\n",
        "    speech = record_speech()\n",
        "    speech = censor_curses(speech)\n",
        "    sentiment = analyze_sentiment(speech)\n",
        "    player_targeted = detect_player_names(speech, players)\n",
        "\n",
        "    print(\"\\nTRANSCRIPTION:\", speech)\n",
        "    print(\"TONE DETECTED:\", sentiment)\n",
        "\n",
        "    if player_targeted:\n",
        "        print(f\"{player_targeted} looks at you, reacting based on tone...\")\n",
        "        if sentiment == \"Motivational\":\n",
        "            print(f\"{player_targeted} nods and looks fired up!\")\n",
        "        elif sentiment == \"Angry\":\n",
        "            print(f\"{player_targeted} looks down, unsure of how to react...\")\n",
        "        elif sentiment == \"Disappointed\":\n",
        "            print(f\"{player_targeted} seems to be doubting himself.\")\n",
        "        else:\n",
        "            print(f\"{player_targeted} remains neutral.\")\n",
        "    else:\n",
        "        print(\"The team listens to you as a whole.\")\n",
        "\n",
        "if __name__ == \"__main__\":\n",
        "    main()\n"
      ]
    }
  ]
}